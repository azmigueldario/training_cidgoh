{
 "cells": [
  {
   "attachments": {},
   "cell_type": "markdown",
   "id": "113df914-b625-46a3-8b82-f522c98f48d8",
   "metadata": {},
   "source": [
    "# Genome assembly and quality control of assembly"
   ]
  },
  {
   "attachments": {},
   "cell_type": "markdown",
   "id": "49ff02db-aca0-4676-9da3-330584a10d49",
   "metadata": {
    "tags": []
   },
   "source": [
    "## Required tools\n",
    "\n",
    "After the previous steps of quality control (QC), we have reads still in raw_format but now we have a summary of their sequencing quality. Furthermore, we have removed regions with poor quality of sequencing (where we cannot be sure if the assigned nucleotides are right) and we removed the adaptor sequences that are added to our DNA for sequencing. \n",
    "\n",
    "In this series of steps, we will assemble the reads using a tool called `shovill`. Once again, we will mimic how to run the commands in the **Compute Canada (CC)** cluster of analysis. \n",
    "\n",
    "For these tutorials, tools will be made available using singularity containers, which can be run using the command `singularity run tool_image`. These tools have been made available in the environment already, so there is no need to download them.\n",
    "\n",
    "Tools used in this tutorial:\n",
    "- shovill\n",
    "- singularity\n",
    "\n",
    "We will first explore the structure of our environment and the folders available. Tools downloaded for the tutorial are in the `tools` folder and in the `tutorials` directory are the primary datasets as well as the results of our runs. \n",
    "\n",
    "### **Note:** After opening this notebook, make sure that you have the **bash** kernel selected. "
   ]
  },
  {
   "cell_type": "code",
   "execution_count": 1,
   "id": "4c5d1b2c",
   "metadata": {
    "vscode": {
     "languageId": "shellscript"
    }
   },
   "outputs": [
    {
     "name": "stdout",
     "output_type": "stream",
     "text": [
      "tutorials\n",
      "|-- results\n",
      "|   |-- annotation\n",
      "|   |-- assembly_checkm\n",
      "|   |-- assembly_quast\n",
      "|   |-- contigs\n",
      "|   |-- reads_qc\n",
      "|   `-- snippy\n",
      "`-- trimmed_reads\n",
      "\n",
      "8 directories\n",
      "/mnt/cidgoh-object-storage/seagull/jupyter-mdprieto\n",
      "|-- baktadb-light\n",
      "|   `-- amrfinderplus-db\n",
      "|-- raw_reads\n",
      "`-- reference_data\n",
      "\n",
      "4 directories\n"
     ]
    }
   ],
   "source": [
    "cd\n",
    "tree -dL 2 tutorials\n",
    "\n",
    "# structure ofsoftware directory\n",
    "tree -dL 2 /mnt/cidgoh-object-storage/seagull/jupyter-mdprieto"
   ]
  },
  {
   "attachments": {},
   "cell_type": "markdown",
   "id": "773c3c85",
   "metadata": {},
   "source": [
    "For downstream assembly, we will use the curated reads contained in the `trimmed_reads` subdirectory (n=20 files containing paired reads for 10 isolates of _P.aeruginosa_). "
   ]
  },
  {
   "cell_type": "code",
   "execution_count": 2,
   "id": "496d090f-da9d-4813-a2d7-e0e8d163d1c7",
   "metadata": {
    "tags": [],
    "vscode": {
     "languageId": "shellscript"
    }
   },
   "outputs": [],
   "source": [
    "# source PATH to use module function\n",
    "source /cvmfs/soft.computecanada.ca/config/profile/bash.sh"
   ]
  },
  {
   "cell_type": "code",
   "execution_count": 3,
   "id": "7787d504-aa7f-47d3-b3c7-00308ecf43c8",
   "metadata": {
    "tags": [],
    "vscode": {
     "languageId": "shellscript"
    }
   },
   "outputs": [
    {
     "name": "stdout",
     "output_type": "stream",
     "text": [
      "ERR10479510_R1.fastq.gz  ERR10479513_R2.fastq.gz  ERR10479517_R1.fastq.gz\n",
      "ERR10479510_R2.fastq.gz  ERR10479514_R1.fastq.gz  ERR10479517_R2.fastq.gz\n",
      "ERR10479511_R1.fastq.gz  ERR10479514_R2.fastq.gz  ERR10479518_R1.fastq.gz\n",
      "ERR10479511_R2.fastq.gz  ERR10479515_R1.fastq.gz  ERR10479518_R2.fastq.gz\n",
      "ERR10479512_R1.fastq.gz  ERR10479515_R2.fastq.gz  ERR10479519_R1.fastq.gz\n",
      "ERR10479512_R2.fastq.gz  ERR10479516_R1.fastq.gz  ERR10479519_R2.fastq.gz\n",
      "ERR10479513_R1.fastq.gz  ERR10479516_R2.fastq.gz\n"
     ]
    }
   ],
   "source": [
    "cd\n",
    "ls $HOME/tutorials/trimmed_reads"
   ]
  },
  {
   "attachments": {},
   "cell_type": "markdown",
   "id": "22a79a81-00a5-4cc9-9a72-dab9f7c26fd4",
   "metadata": {},
   "source": [
    "## De-novo assembly with Shovill\n",
    "\n",
    "Shovill is a tool that optimizes the assembler `Spades` to minimize the run time, while maintaining the quality of results. It generates a draft genome using heuristic algorithms and does not require a reference genome that guides the process. See the GitHub repositories of [shovill](https://github.com/tseemann/shovill) and [SPAdes](https://github.com/ablab/spades) for more details. \n",
    "\n",
    "Shovill is not available as a module pre-installed in **CC**, so we must use another strategy. The easiest one is to use a container, we can install a **Docker** container, but Docker containers are not suitable for high performance clusters like **Compute Canada** because they have inherent root user (administrator) privileges. Thus, many HPC allow use of **Singularity** images as an alternative (For more info about what is containerization you can read https://www.melbournebioinformatics.org.au/tutorials/tutorials/docker/docker/).\n",
    "\n",
    "A useful repository of **Singularity** images is located at https://depot.galaxyproject.org/singularity/\n",
    "\n",
    "<font color='darkred'>_**Notes for compute canada:**_ </font>  \n",
    "- Singularity needs to be loaded into the system. On the CIDGOH servers, it is loaded by default. Run the following code to have singularity available in your compute canada session. \n",
    "\n",
    ">    module load singularity\n",
    "\n",
    "- We have already downloaded the **Shovill** singularity container. In CC, you may need to do it, so run the following command pull it from the repository into your local directory. The command tells the system to pull a container from a repository into your local system.\n",
    "\n",
    ">    singularity pull shovill_1.1.sif https://depot.galaxyproject.org/singularity/shovill%3A1.1.0--hdfd78af_1\n"
   ]
  },
  {
   "cell_type": "code",
   "execution_count": 4,
   "id": "0295f341-5926-4e79-91c9-d98631079b29",
   "metadata": {
    "tags": [],
    "vscode": {
     "languageId": "shellscript"
    }
   },
   "outputs": [
    {
     "name": "stdout",
     "output_type": "stream",
     "text": [
      "SYNOPSIS\n",
      "  De novo assembly pipeline for Illumina paired reads\n",
      "USAGE\n",
      "  shovill [options] --outdir DIR --R1 R1.fq.gz --R2 R2.fq.gz\n",
      "GENERAL\n",
      "  --help          This help\n",
      "  --version       Print version and exit\n",
      "  --check         Check dependencies are installed\n",
      "INPUT\n",
      "  --R1 XXX        Read 1 FASTQ (default: '')\n",
      "  --R2 XXX        Read 2 FASTQ (default: '')\n",
      "  --depth N       Sub-sample --R1/--R2 to this depth. Disable with --depth 0 (default: 150)\n",
      "  --gsize XXX     Estimated genome size eg. 3.2M <blank=AUTODETECT> (default: '')\n",
      "OUTPUT\n",
      "  --outdir XXX    Output folder (default: '')\n",
      "  --force         Force overwite of existing output folder (default: OFF)\n",
      "  --minlen N      Minimum contig length <0=AUTO> (default: 0)\n",
      "  --mincov n.nn   Minimum contig coverage <0=AUTO> (default: 2)\n",
      "  --namefmt XXX   Format of contig FASTA IDs in 'printf' style (default: 'contig%05d')\n",
      "  --keepfiles     Keep intermediate files (default: OFF)\n",
      "RESOURCES\n",
      "  --tmpdir XXX    Fast temporary directory (default: '')\n",
      "  --cpus N        Number of CPUs to use (0=ALL) (default: 8)\n",
      "  --ram n.nn      Try to keep RAM usage below this many GB (default: 16)\n",
      "ASSEMBLER\n",
      "  --assembler XXX Assembler: velvet skesa megahit spades (default: 'spades')\n",
      "  --opts XXX      Extra assembler options in quotes eg. spades: '--sc' (default: '')\n",
      "  --kmers XXX     K-mers to use <blank=AUTO> (default: '')\n",
      "MODULES\n",
      "  --trim          Enable adaptor trimming (default: OFF)\n",
      "  --noreadcorr    Disable read error correction (default: OFF)\n",
      "  --nostitch      Disable read stitching (default: OFF)\n",
      "  --nocorr        Disable post-assembly correction (default: OFF)\n",
      "HOMEPAGE\n",
      "  https://github.com/tseemann/shovill - Torsten Seemann\n"
     ]
    }
   ],
   "source": [
    "# executing shovill\n",
    "\n",
    "singularity exec /mnt/cidgoh-object-storage/images/shovill_1.1.sif shovill --help"
   ]
  },
  {
   "attachments": {},
   "cell_type": "markdown",
   "id": "c2ba8b22-fddf-4774-b9d0-5c0fb23a33ae",
   "metadata": {},
   "source": [
    "#### What does shovill do?\n",
    "\n",
    "1. Unifies coverage depth (how many times is a region covered by reads on average) for all genomes\n",
    "2. Trims adapters and poor quality reads if necessary\n",
    "3. Assembles using SPAdes\n",
    "4. Polishes genomes (improves quality) and filters low quality contigs\n"
   ]
  },
  {
   "cell_type": "code",
   "execution_count": 5,
   "id": "b145e909-c993-46e8-bf8f-ac42000e5bf2",
   "metadata": {
    "tags": [],
    "vscode": {
     "languageId": "shellscript"
    }
   },
   "outputs": [],
   "source": [
    "# create output directory\n",
    "CONTIGS_DIR=\"$HOME/tutorials/results/contigs\"\n",
    "\n",
    "# define PATH to trimmed_reads\n",
    "TRIMMED_READS=\"$HOME/tutorials/trimmed_reads\""
   ]
  },
  {
   "attachments": {},
   "cell_type": "markdown",
   "id": "858935a0-b97d-4969-aeae-88b3885a5df4",
   "metadata": {},
   "source": [
    "To execute shovill, we run the command from the singularity container we just downloaded. Genome assembly is the most resource intensive process in the pipeline, so it will probably take a while to run. As input, we will use or `trimmed_reads` files and to optimize your run time, we will assemble only two isolates. The remaining ones are already available in the `tutorials/results` folder\n",
    "\n",
    "<font color='darkred'>_**Notes for compute canada:**_ </font>  \n",
    "- Allocate sufficiente memory as the size of every genome must be kept in storage while it is assembled\n",
    "- Bioinformatic procedures usually use multiple threads to optimize performance, so their efficiency increases with the number of available cores (including **SPAdes**). \n",
    "- In shovill, the `--ram` option specifies the available ram per thread (core)\n",
    "    - Spades will take input of RAM from shovill as total available mem, better to input limit manually with `--opts \"-m XX\"`"
   ]
  },
  {
   "cell_type": "code",
   "execution_count": 6,
   "id": "f4eacd90-b635-49c7-b907-0729c900b3d5",
   "metadata": {
    "scrolled": true,
    "tags": [],
    "vscode": {
     "languageId": "shellscript"
    }
   },
   "outputs": [
    {
     "name": "stdout",
     "output_type": "stream",
     "text": [
      "Started processing ERR10479510\n",
      "[shovill] Hello jupyter-mdprieto\n",
      "[shovill] You ran: /usr/local/bin/shovill --R1 /home/jupyter-mdprieto/tutorials/trimmed_reads/ERR10479510_R1.fastq.gz --R2 /home/jupyter-mdprieto/tutorials/trimmed_reads/ERR10479510_R2.fastq.gz --outdir /home/jupyter-mdprieto/tutorials/results/contigs --force --ram 140\n",
      "[shovill] This is shovill 1.1.0\n",
      "[shovill] Written by Torsten Seemann\n",
      "[shovill] Homepage is https://github.com/tseemann/shovill\n",
      "[shovill] Operating system is linux\n",
      "[shovill] Perl version is v5.26.2\n",
      "[shovill] Machine has 16 CPU cores and 176.90 GB RAM\n",
      "[shovill] Using bwa - /usr/local/bin/bwa | Version: 0.7.17-r1188\n",
      "[shovill] Using flash - /usr/local/bin/flash | FLASH v1.2.11\n",
      "[shovill] Using java - /usr/local/bin/java | openjdk version \"11.0.1\" 2018-10-16 LTS\n",
      "[shovill] Using kmc - /usr/local/bin/kmc | K-Mer Counter (KMC) ver. 3.1.1 (2019-05-19)\n",
      "[shovill] Using lighter - /usr/local/bin/lighter | Lighter v1.1.2\n",
      "[shovill] Using megahit - /usr/local/bin/megahit | MEGAHIT v1.2.9\n",
      "[shovill] Using megahit_toolkit - /usr/local/bin/megahit_toolkit | v1.2.9\n",
      "[shovill] Using pigz - /usr/local/bin/pigz | pigz 2.6\n",
      "\n"
     ]
    }
   ],
   "source": [
    "# for loop to run a command for each sample\n",
    "\n",
    "for READ1 in $(ls $TRIMMED_READS/*R1.fastq.gz | head -n 2)\n",
    "do\n",
    "\n",
    "    \n",
    "    READ2=${READ1/_R1/_R2}                                                              # substitute R1 for R2 in variable\n",
    "    PREFIX_ISOLATE=$(basename $READ1 _R1.fastq.gz)                                      # create file with isolate name\n",
    "    echo \"Started processing $PREFIX_ISOLATE\"\n",
    "    \n",
    "    singularity exec /mnt/cidgoh-object-storage/images/shovill_1.1.sif shovill  \\\n",
    "        --R1 $READ1                                                                     `# specify paired read 1` \\\n",
    "        --R2 $READ2                                                                     `# specify paired read 2` \\\n",
    "        --outdir $CONTIGS_DIR                                                           `# define output directory` \\\n",
    "        --force                                                                         `# overwrite results if already available` \\\n",
    "        --ram 140                                                                       `# how much ram memory to use`\n",
    "    \n",
    "    mv \"$CONTIGS_DIR/contigs.fa\" $CONTIGS_DIR/${PREFIX_ISOLATE}_contigs.fa\n",
    "    \n",
    "    echo \"Finished assembly of sample $PREFIX_ISOLATE\"\n",
    "    \n",
    "done"
   ]
  },
  {
   "attachments": {},
   "cell_type": "markdown",
   "id": "38b71de2-4acc-47c9-bcf2-9b3892fd47d5",
   "metadata": {},
   "source": [
    "In this tutorial, we processed only two samples to optimize the runtime. The remaining assemblies can be found in the same directory for future steps. In this tutorial, we processed only two samples to optimize the runtime. The remaining assemblies can be found in the same directory for future steps. \n",
    "\n",
    "The main output of the **Shovill** pipeline are the files ending in `contigs.fa` which contain assembled reads in fasta format. We can see that this format contains a header for every contig and then the reads.  "
   ]
  },
  {
   "cell_type": "code",
   "execution_count": 7,
   "id": "2c36552e-64da-4711-b61e-d75cb95e3155",
   "metadata": {
    "tags": [],
    "vscode": {
     "languageId": "shellscript"
    }
   },
   "outputs": [
    {
     "name": "stdout",
     "output_type": "stream",
     "text": [
      ">contig00001 len=531597 cov=40.5 corr=0 origname=NODE_1_length_531597_cov_40.531919_pilon sw=shovill-spades/1.1.0 date=20230301\n",
      "CGGCGGCAGTTGGCGAAAGAAATCCCGCACCTGTGCCCGCTTGAGTTGGCGACGACATAC\n",
      "CACATGCTCGTGACGATCAACGCCGTGCACCTGGAATACTTGTTTTGCCAGATCCAGACC\n",
      "AATGCGACTAAGGTTCATGCTGACTCCCCCTCCGGGACTTGTGGCTGCACCATTAGTCTG\n",
      "GCGCTTGACGCCGTAGGAGGGAGGAGTCCATTTCATTGCCCTACCCCAGCTCTCCATCGC\n",
      "CGCCAATCTCCCGCATATCCCCGGAGTCCGCCATGTCCTCACCCCAACCGCCCCGCTTCG\n",
      "ACGGCCAACGCTGGAGCAACGCCGACGACGACCGCATCGAGGTGCTGCCTGCCGACCCCG\n",
      "CCTGGCCACAACACTTCGCCGCCGAAGCCGAGGCCATCCGCACGGCGCTGGCGCTGCCCG\n",
      "GGCTGGGCATCGAGCATGTCGGCAGCACCGCGGTGCCCGGGCTCGACGCCAAGCCGATCA\n",
      "TCGACATCCTCCTGCTGCCGCCGCCCGGCCACGATCCGCAGCGGCTGGTAGCCCCGCTGG\n"
     ]
    }
   ],
   "source": [
    "head \"$CONTIGS_DIR/ERR10479510_contigs.fa\""
   ]
  },
  {
   "attachments": {},
   "cell_type": "markdown",
   "id": "9041bbab",
   "metadata": {},
   "source": [
    "As a refresher, this is the current structure of directories for our tutorial project"
   ]
  },
  {
   "cell_type": "code",
   "execution_count": 8,
   "id": "b4514beb",
   "metadata": {
    "vscode": {
     "languageId": "shellscript"
    }
   },
   "outputs": [
    {
     "name": "stdout",
     "output_type": "stream",
     "text": [
      "tutorials\n",
      "|-- results\n",
      "|   |-- annotation\n",
      "|   |-- assembly_checkm\n",
      "|   |-- assembly_quast\n",
      "|   |-- contigs\n",
      "|   |-- reads_qc\n",
      "|   `-- snippy\n",
      "`-- trimmed_reads\n",
      "\n",
      "8 directories\n"
     ]
    }
   ],
   "source": [
    "cd ~\n",
    "tree -dL 2 tutorials"
   ]
  },
  {
   "attachments": {},
   "cell_type": "markdown",
   "id": "0d38f655-b711-477f-8792-2c1c7d0e30b3",
   "metadata": {},
   "source": [
    "# Quality control of draft genomes\n",
    "\n",
    "**Shovill** produces contigs (overlapping consensus regions of DNA) for every isolate. However, we may have contaminated cultures growing other bacteria besides our organism of interest. Also, given the non targeted approach used for sequencing, the reads from an isolate may have poor quality (low realibility in base calling or poor coverage of certain regions).\n",
    "\n",
    "Thus, after producing draft genomes, we typically conduct additional checks to verify the quality of the resulting files and make sure that we do not have contamination in our samples. \n",
    "\n",
    "### General expectation\n",
    "\n",
    "- The average size of contigs is over 5000 basepairs and that we have less than a 1000 contigs in our draft genome. \n",
    "- The resulting assembly should have a coverage of at least 90% of the reference genome"
   ]
  },
  {
   "attachments": {},
   "cell_type": "markdown",
   "id": "f675c8dc-2ca1-4f16-bfb3-d21cdb11e36a",
   "metadata": {},
   "source": [
    "## Quast\n",
    "\n",
    "Quast [(github:quast)](https://github.com/ablab/quast) produces quantitative summaries of the contigs in every assembly. It may also use a reference genome to evaluate misassemblies, unaligned contigs, and readcoverage against the reference genome. \n",
    "\n",
    "**_Some metrics include:_** \n",
    "- Number of contigs and number of contigs > 500bp\n",
    "- **N50** or the length at which the collection of all contigs of at least that length covers half of the assembly \n",
    "- **NG50** is similar to **N50** but measures the coverage of the reference genome\n",
    "- Number of misassemblies including inversions, relocations, and translocations\n",
    "- Number and total length of unaligned contigs (against the reference genome)\n",
    "\n",
    "As the data we are analyzing in the tutorial comes from _P. aeruginosa_ isolates ([PMID:34412676](https://www.ncbi.nlm.nih.gov/pmc/articles/PMC8376114/) - [BioProject:PRJEB56397](https://www.ncbi.nlm.nih.gov/bioproject/?term=PRJEB56397)), we will use the [PAO1 reference strain](https://www.ncbi.nlm.nih.gov/data-hub/genome/GCF_000006765.1/) for quality control. \n",
    "\n",
    "Reference genomes contain two files, a fasta sequence file (.fna or .fa) and an annotation file (.gff). We have them stored in `~/tutorials/tools/reference_data/`"
   ]
  },
  {
   "cell_type": "code",
   "execution_count": 9,
   "id": "7cbe0a00-80a9-4853-9165-c6435d69dab0",
   "metadata": {
    "vscode": {
     "languageId": "shellscript"
    }
   },
   "outputs": [
    {
     "name": "stdout",
     "output_type": "stream",
     "text": [
      "\n",
      "Lmod is automatically replacing \"intel/2020.1.217\" with \"gcc/9.3.0\".\n",
      "\n",
      "\n",
      "The following have been reloaded with a version change:\n",
      "  1) StdEnv/2016.4 => StdEnv/2020           4) mii/1.1.1 => mii/1.1.2\n",
      "  2) gcccore/.5.4.0 => gcccore/.9.3.0       5) openmpi/2.1.1 => openmpi/4.0.3\n",
      "  3) imkl/11.3.4.258 => imkl/2020.1.217\n",
      "\n",
      "/mnt/cidgoh-object-storage/seagull/jupyter-mdprieto/reference_data/GCF_000006765.1_ASM676v1_genomic.fna\n",
      "/mnt/cidgoh-object-storage/seagull/jupyter-mdprieto/reference_data/GCF_000006765.1_ASM676v1_genomic.fna.gz\n",
      "/mnt/cidgoh-object-storage/seagull/jupyter-mdprieto/reference_data/GCF_000006765.1_ASM676v1_genomic.gff.gz\n"
     ]
    }
   ],
   "source": [
    "# load quast into our environment\n",
    "module load StdEnv/2020 gcc/9.3.0 quast/5.0.2\n",
    "\n",
    "# reference genomes are found in the tools directory\n",
    "ls /mnt/cidgoh-object-storage/seagull/jupyter-mdprieto/reference_data/GCF*"
   ]
  },
  {
   "cell_type": "code",
   "execution_count": 10,
   "id": "a9574d47-dd93-4f4f-bb8b-abd63697b7fd",
   "metadata": {
    "vscode": {
     "languageId": "shellscript"
    }
   },
   "outputs": [],
   "source": [
    "# create ENV variable to input and output directory\n",
    "CONTIGS_DIR=\"$HOME/tutorials/results/contigs\"\n",
    "RESULTS_QUAST=\"/$HOME/tutorials/results/assembly_quast\""
   ]
  },
  {
   "attachments": {},
   "cell_type": "markdown",
   "id": "ee0858fb-25ae-4a69-8a9b-9042dafe56fa",
   "metadata": {},
   "source": [
    "The main command `quast.py` produces several reports, with formats such as `.pdf, .html, and .csv`, containing the previously mentioned metrics. \n",
    "\n",
    "They can be opened directly in Jupyter by clicking the file on the explorer or exported to your local computer for further visualization. "
   ]
  },
  {
   "cell_type": "code",
   "execution_count": 11,
   "id": "cd20360a-373c-4e86-94fe-2a353da98649",
   "metadata": {
    "scrolled": true,
    "tags": [],
    "vscode": {
     "languageId": "shellscript"
    }
   },
   "outputs": [
    {
     "name": "stdout",
     "output_type": "stream",
     "text": [
      "/cvmfs/soft.computecanada.ca/easybuild/software/2020/avx512/Compiler/gcc9/quast/5.0.2/bin/quast.py /home/jupyter-mdprieto/tutorials/results/contigs/ERR10479510_contigs.fa /home/jupyter-mdprieto/tutorials/results/contigs/ERR10479511_contigs.fa /home/jupyter-mdprieto/tutorials/results/contigs/ERR10479512_contigs.fa /home/jupyter-mdprieto/tutorials/results/contigs/ERR10479513_contigs.fa /home/jupyter-mdprieto/tutorials/results/contigs/ERR10479514_contigs.fa /home/jupyter-mdprieto/tutorials/results/contigs/ERR10479515_contigs.fa /home/jupyter-mdprieto/tutorials/results/contigs/ERR10479516_contigs.fa /home/jupyter-mdprieto/tutorials/results/contigs/ERR10479517_contigs.fa /home/jupyter-mdprieto/tutorials/results/contigs/ERR10479518_contigs.fa /home/jupyter-mdprieto/tutorials/results/contigs/ERR10479519_contigs.fa -r /mnt/cidgoh-object-storage/seagull/jupyter-mdprieto/reference_data/GCF_000006765.1_ASM676v1_genomic.fna.gz -g /mnt/cidgoh-object-storage/seagull/jupyter-mdprieto/reference_data/GCF_000006765.1_ASM676v1_genomic.gff.gz -o //home/jupyter-mdprieto/tutorials/results/assembly_quast --threads 12\n",
      "\n",
      "Version: 5.0.2\n",
      "\n",
      "System information:\n",
      "  OS: Linux-5.4.0-144-generic-x86_64-with-glibc2.2.5 (linux_64)\n",
      "  Python version: 3.8.10\n",
      "  CPUs number: 16\n",
      "\n",
      "Started: 2023-05-09 20:23:00\n",
      "\n",
      "Logging to //home/jupyter-mdprieto/tutorials/results/assembly_quast/quast.log\n",
      "NOTICE: Output directory already exists and looks like a QUAST output dir. Existing results can be reused (e.g. previously generated alignments)!\n",
      "\n",
      "CWD: /home/jupyter-mdprieto\n",
      "Main parameters: \n",
      "  MODE: default, threads: 12, minimum contig length: 500, minimum alignment length: 65, \\\n",
      "  ambiguity: one, threshold for extensive misassembly size: 1000\n",
      "\n",
      "Reference:\n",
      "  /mnt/cidgoh-object-storage/seagull/jupyter-mdprieto/reference_data/GCF_000006765.1_ASM676v1_genomic.fna.gz ==> GCF_000006765.1_ASM676v1_genomic\n",
      "\n",
      "Contigs:\n",
      "  Pre-processing...\n",
      "  1  /home/jupyter-mdprieto/tutorials/results/contigs/ERR10479510_contigs.fa ==> ERR10479510_contigs\n",
      "  2  /home/jupyter-mdprieto/tutorials/results/contigs/ERR10479511_contigs.fa ==> ERR10479511_contigs\n",
      "  3  /home/jupyter-mdprieto/tutorials/results/contigs/ERR10479512_contigs.fa ==> ERR10479512_contigs\n",
      "  4  /home/jupyter-mdprieto/tutorials/results/contigs/ERR10479513_contigs.fa ==> ERR10479513_contigs\n",
      "  5  /home/jupyter-mdprieto/tutorials/results/contigs/ERR10479514_contigs.fa ==> ERR10479514_contigs\n",
      "  6  /home/jupyter-mdprieto/tutorials/results/contigs/ERR10479515_contigs.fa ==> ERR10479515_contigs\n",
      "  7  /home/jupyter-mdprieto/tutorials/results/contigs/ERR10479516_contigs.fa ==> ERR10479516_contigs\n",
      "  8  /home/jupyter-mdprieto/tutorials/results/contigs/ERR10479517_contigs.fa ==> ERR10479517_contigs\n",
      "  9  /home/jupyter-mdprieto/tutorials/results/contigs/ERR10479518_contigs.fa ==> ERR10479518_contigs\n",
      "  10 /home/jupyter-mdprieto/tutorials/results/contigs/ERR10479519_contigs.fa ==> ERR10479519_contigs\n",
      "\n",
      "2023-05-09 20:23:02\n",
      "Running Basic statistics processor...\n",
      "  Reference genome:\n",
      "    GCF_000006765.1_ASM676v1_genomic.fna, length = 6264404, num fragments = 1, GC % = 66.56\n",
      "  Contig files: \n",
      "    1  ERR10479510_contigs\n",
      "    2  ERR10479511_contigs\n",
      "    3  ERR10479512_contigs\n",
      "    4  ERR10479513_contigs\n",
      "    5  ERR10479514_contigs\n",
      "    6  ERR10479515_contigs\n",
      "    7  ERR10479516_contigs\n",
      "    8  ERR10479517_contigs\n",
      "    9  ERR10479518_contigs\n",
      "    10 ERR10479519_contigs\n",
      "  Calculating N50 and L50...\n",
      "    1  ERR10479510_contigs, N50 = 221997, L50 = 12, Total length = 7074301, GC % = 65.78, # N's per 100 kbp =  0.00\n",
      "    2  ERR10479511_contigs, N50 = 184817, L50 = 13, Total length = 7065835, GC % = 65.79, # N's per 100 kbp =  0.00\n",
      "    3  ERR10479512_contigs, N50 = 226997, L50 = 12, Total length = 7068874, GC % = 65.80, # N's per 100 kbp =  0.00\n",
      "    4  ERR10479513_contigs, N50 = 223675, L50 = 11, Total length = 7071377, GC % = 65.79, # N's per 100 kbp =  0.00\n",
      "Traceback (most recent call last):\n",
      "  File \"/cvmfs/soft.computecanada.ca/easybuild/software/2020/avx512/Compiler/gcc9/quast/5.0.2/bin/quast.py\", line 307, in <module>\n",
      "    return_code = main(sys.argv[1:])\n",
      "  File \"/cvmfs/soft.computecanada.ca/easybuild/software/2020/avx512/Compiler/gcc9/quast/5.0.2/bin/quast.py\", line 149, in main\n",
      "    icarus_gc_fpath, circos_gc_fpath = basic_stats.do(ref_fpath, contigs_fpaths, os.path.join(output_dirpath, 'basic_stats'), output_dirpath)\n",
      "  File \"/cvmfs/soft.computecanada.ca/easybuild/software/2020/avx512/Compiler/gcc9/quast/5.0.2/lib/python3.8/site-packages/quast_libs/basic_stats.py\", line 285, in do\n",
      "    total_GC, GC_distribution, GC_contigs_distribution = GC_content(contigs_fpath, skip=qconfig.no_gc)\n",
      "  File \"/cvmfs/soft.computecanada.ca/easybuild/software/2020/avx512/Compiler/gcc9/quast/5.0.2/lib/python3.8/site-packages/quast_libs/basic_stats.py\", line 49, in GC_content\n",
      "    GC_percent = get_GC_percent(seq, n)\n",
      "  File \"/cvmfs/soft.computecanada.ca/easybuild/software/2020/avx512/Compiler/gcc9/quast/5.0.2/lib/python3.8/site-packages/quast_libs/basic_stats.py\", line 65, in get_GC_percent\n",
      "    ACGT_len = len(seq) - seq.count(\"N\")\n",
      "KeyboardInterrupt\n",
      "\n"
     ]
    }
   ],
   "source": [
    "quast.py $CONTIGS_DIR/*contigs.fa                                                                                       `# pattern for contig files produced by shovill` \\\n",
    "    -r /mnt/cidgoh-object-storage/seagull/jupyter-mdprieto/reference_data/GCF_000006765.1_ASM676v1_genomic.fna.gz       `# reference genome` \\\n",
    "    -g /mnt/cidgoh-object-storage/seagull/jupyter-mdprieto/reference_data/GCF_000006765.1_ASM676v1_genomic.gff.gz                                     `# reference genomic features positions` \\\n",
    "    -o $RESULTS_QUAST                                                                                                  `# output directory` \\\n",
    "    --threads 12"
   ]
  },
  {
   "attachments": {},
   "cell_type": "markdown",
   "id": "7f801be8-1205-4306-b03a-6f6d7e29c5aa",
   "metadata": {},
   "source": [
    "We can preview metrics such as the N50 of the assemblies and the coverage of the reference genome using the commands below. "
   ]
  },
  {
   "cell_type": "code",
   "execution_count": 12,
   "id": "8ca9fb58-07ab-4900-a529-03a3e1500e25",
   "metadata": {
    "vscode": {
     "languageId": "shellscript"
    }
   },
   "outputs": [
    {
     "name": "stdout",
     "output_type": "stream",
     "text": [
      "\u001b[0m\u001b[01;34maligned_stats\u001b[0m    icarus.html            report.html  transposed_report.tex\n",
      "\u001b[01;34mbasic_stats\u001b[0m      \u001b[01;34micarus_viewers\u001b[0m         report.tex   transposed_report.tsv\n",
      "\u001b[01;34mcontigs_reports\u001b[0m  quast.log              report.tsv   transposed_report.txt\n",
      "\u001b[01;34mgenome_stats\u001b[0m     \u001b[01;34mquast_corrected_input\u001b[0m  report.txt\n",
      "\n",
      "Assembly             ERR10479510__contigs  ERR10479510_contigs  ERR10479511__contigs  ERR10479511_contigs\n",
      "N50                  221997                221997               184817                184817\n",
      "Genome fraction (%)  95.402                95.402               95.397                95.397\n"
     ]
    }
   ],
   "source": [
    "# list contents of folder\n",
    "ls $RESULTS_QUAST\n",
    "\n",
    "# overview of N50 and coverage\n",
    "echo\n",
    "cat $RESULTS_QUAST/report.tsv                      `# print the file` | \\\n",
    "cut -f 1-5                                         `# cut the columns 1 to 5 (separated by tab)` | \\\n",
    "grep -E 'Assembly|N50|fraction'                    `# select lines matching the pattern Assembly OR N50 OR fraction` | \\\n",
    "column -ts $'\\t'                                   `# print table separating at tabs ($'\\t')`"
   ]
  },
  {
   "attachments": {},
   "cell_type": "markdown",
   "id": "bf0a1ad4-5abf-48b9-bea4-3d496ff19bb8",
   "metadata": {
    "tags": []
   },
   "source": [
    "## CheckM\n"
   ]
  },
  {
   "attachments": {},
   "cell_type": "markdown",
   "id": "17902515-d95e-454f-845f-67491e1f046c",
   "metadata": {},
   "source": [
    "**CheckM** infers the quality of the genome assembly based on the presence and uniqueness of sets of gene markers that are specific to species/taxa, and determines the completeness (coverage of reference genome) and the contamination of the input draft genomes.\n",
    "\n",
    "**CheckM** is not available in the CC cluster. So, we use a singularity container with the latest version.\n"
   ]
  },
  {
   "cell_type": "code",
   "execution_count": 13,
   "id": "a9e5158e-498e-4b56-93d3-8572efd23fa6",
   "metadata": {
    "vscode": {
     "languageId": "shellscript"
    }
   },
   "outputs": [],
   "source": [
    "# create ENV variable to input/output directory and singularity container for checkm\n",
    "CONTIGS_DIR=\"$HOME/tutorials/results/contigs/\"\n",
    "RESULTS_CHECKM=\"$HOME/tutorials/results/assembly_checkm/\""
   ]
  },
  {
   "attachments": {},
   "cell_type": "markdown",
   "id": "0107f31e-d8ac-42ba-bf71-8c84b3f6921c",
   "metadata": {},
   "source": [
    "The first step is to create a dataset with specific genomic markers for a species, taxon or genus using \n",
    "\n",
    "`checkm taxon_set <species/genus/taxon> <taxon_name> <marker_file>`\n",
    "\n",
    "Also, as some of the data necessary for the tutorials were saved in a shared directory so everyone can access it, singularity may not be able to recognize that drive by default. \n",
    "Thus, we run `export SINGULARITY_BIND=\"/mnt,/etc\"` so singularity can look for information on these additional drives"
   ]
  },
  {
   "cell_type": "code",
   "execution_count": 17,
   "id": "3bcd0c5d-9d12-4aa1-8283-44bd885667fa",
   "metadata": {
    "scrolled": true,
    "tags": [],
    "vscode": {
     "languageId": "shellscript"
    }
   },
   "outputs": [
    {
     "name": "stdout",
     "output_type": "stream",
     "text": [
      "[2023-05-09 20:29:10] INFO: CheckM v1.2.2\n",
      "[2023-05-09 20:29:10] INFO: checkm taxon_set species Pseudomonas aeruginosa /mnt/cidgoh-object-storage/seagull/jupyter-mdprieto/reference_data/pseudomonas.ms\n",
      "[2023-05-09 20:29:10] INFO: CheckM data: /usr/local/checkm_data\n",
      "[2023-05-09 20:29:10] INFO: [CheckM - taxon_set] Generate taxonomic-specific marker set.\n",
      "[2023-05-09 20:29:15] INFO: Marker set for Pseudomonas aeruginosa contains 1617 marker genes arranged in 469 sets.\n",
      "[2023-05-09 20:29:15] INFO: Marker set inferred from 19 reference genomes.\n",
      "[2023-05-09 20:29:15] INFO: Marker set for Pseudomonas contains 833 marker genes arranged in 312 sets.\n",
      "[2023-05-09 20:29:15] INFO: Marker set inferred from 182 reference genomes.\n",
      "[2023-05-09 20:29:15] INFO: Marker set for Pseudomonadaceae contains 800 marker genes arranged in 302 sets.\n",
      "[2023-05-09 20:29:15] INFO: Marker set inferred from 186 reference genomes.\n",
      "[2023-05-09 20:29:15] INFO: Marker set for Pseudomonadales contains 549 marker genes arranged in 326 sets.\n",
      "[2023-05-09 20:29:15] INFO: Marker set inferred from 274 reference genomes.\n",
      "[2023-05-09 20:29:15] INFO: Marker set for Gammaproteobacteria contains 280 marker genes arranged in 178 sets.\n",
      "[2023-05-09 20:29:15] INFO: Marker set inferred from 1167 reference genomes.\n",
      "[2023-05-09 20:29:15] INFO: Marker set for Proteobacteria contains 182 marker genes arranged in 119 sets.\n",
      "[2023-05-09 20:29:15] INFO: Marker set inferred from 2343 reference genomes.\n",
      "[2023-05-09 20:29:15] INFO: Marker set for Bacteria contains 104 marker genes arranged in 58 sets.\n",
      "[2023-05-09 20:29:15] INFO: Marker set inferred from 5449 reference genomes.\n",
      "[2023-05-09 20:29:16] INFO: Marker set written to: /mnt/cidgoh-object-storage/seagull/jupyter-mdprieto/reference_data/pseudomonas.ms\n",
      "[2023-05-09 20:29:16] INFO: { Current stage: 0:00:05.522 || Total: 0:00:05.522 }\n"
     ]
    }
   ],
   "source": [
    "# add drives to singularity\n",
    "export SINGULARITY_BIND=\"/mnt,/etc\"\n",
    "\n",
    "# command\n",
    "singularity exec /mnt/cidgoh-object-storage/images/checkm_1.2.2.sif checkm \\\n",
    "    taxon_set species 'Pseudomonas aeruginosa' /mnt/cidgoh-object-storage/seagull/jupyter-mdprieto/reference_data/pseudomonas.ms"
   ]
  },
  {
   "attachments": {},
   "cell_type": "markdown",
   "id": "460af426-1022-4e98-a6ce-a1c1c91ffa2b",
   "metadata": {},
   "source": [
    "With the reference markers file created in our tools directory, we perform two additional steps:\n",
    "1. Using `checkm analysis` we identify what marker sets that are specific to a taxon of interest are included in every assembly. The process for the samples used in the tutorial (n = 10) should take around 10-15 min. "
   ]
  },
  {
   "cell_type": "code",
   "execution_count": 20,
   "id": "0a1728b0-af61-4b2c-97ac-9b1e8ccd849a",
   "metadata": {
    "scrolled": true,
    "tags": [],
    "vscode": {
     "languageId": "shellscript"
    }
   },
   "outputs": [
    {
     "name": "stdout",
     "output_type": "stream",
     "text": [
      "[2023-05-09 20:30:15] INFO: CheckM v1.2.2\n",
      "[2023-05-09 20:30:15] INFO: checkm analyze /mnt/cidgoh-object-storage/seagull/jupyter-mdprieto/reference_data/pseudomonas.ms /home/jupyter-mdprieto/tutorials/results/contigs/ /home/jupyter-mdprieto/tutorials/results/assembly_checkm/ -x fa -t 10\n",
      "[2023-05-09 20:30:15] INFO: CheckM data: /usr/local/checkm_data\n",
      "[2023-05-09 20:30:15] INFO: [CheckM - analyze] Identifying marker genes in bins.\n",
      "[2023-05-09 20:30:16] INFO: Identifying marker genes in 10 bins with 10 threads:\n",
      "    Finished processing 10 of 10 (100.00%) bins.\n",
      "[2023-05-09 20:34:17] INFO: Saving HMM info to file.\n",
      "[2023-05-09 20:34:18] INFO: { Current stage: 0:04:02.851 || Total: 0:04:02.851 }\n",
      "[2023-05-09 20:34:18] INFO: Parsing HMM hits to marker genes:\n",
      "    Finished parsing hits for 10 of 10 (100.00%) bins.\n",
      "[2023-05-09 20:34:25] INFO: Aligning marker genes with multiple hits in a single bin:\n",
      "    Finished processing 10 of 10 (100.00%) bins.\n",
      "[2023-05-09 20:34:26] INFO: { Current stage: 0:00:08.220 || Total: 0:04:11.072 }\n",
      "[2023-05-09 20:34:26] INFO: Calculating genome statistics for 10 bins with 10 threads:\n",
      "    Finished processing 10 of 10 (100.00%) bins.\n",
      "[2023-05-09 20:34:26] INFO: { Current stage: 0:00:00.345 || Total: 0:04:11.417 }\n"
     ]
    }
   ],
   "source": [
    "# analyze presence of markers (4 min aprox.)\n",
    "singularity exec /mnt/cidgoh-object-storage/images/checkm_1.2.2.sif checkm analyze \\\n",
    "    /mnt/cidgoh-object-storage/seagull/jupyter-mdprieto/reference_data/pseudomonas.ms           `#file with checkm marker set for assemblies` \\\n",
    "    $CONTIGS_DIR                                                                                `#dir with assemblies in fasta format` \\\n",
    "    $RESULTS_CHECKM                                                                             `#output directory` \\\n",
    "    -x fa                                                                                       `#extension of assemblies` \\\n",
    "    -t 10 \n"
   ]
  },
  {
   "attachments": {},
   "cell_type": "markdown",
   "id": "e866472e",
   "metadata": {},
   "source": [
    "2. Then, with `checkm qa` we produce a summary of contamination. This step should not take long"
   ]
  },
  {
   "cell_type": "code",
   "execution_count": 21,
   "id": "90fee905",
   "metadata": {
    "vscode": {
     "languageId": "shellscript"
    }
   },
   "outputs": [
    {
     "name": "stdout",
     "output_type": "stream",
     "text": [
      "[2023-05-09 20:34:39] INFO: CheckM v1.2.2\n",
      "[2023-05-09 20:34:39] INFO: checkm qa /mnt/cidgoh-object-storage/seagull/jupyter-mdprieto/reference_data/pseudomonas.ms /home/jupyter-mdprieto/tutorials/results/assembly_checkm/ --file /home/jupyter-mdprieto/tutorials/results/assembly_checkm//checkm_output.tsv --tab_table --threads 10 --out_format 1\n",
      "[2023-05-09 20:34:39] INFO: CheckM data: /usr/local/checkm_data\n",
      "[2023-05-09 20:34:39] INFO: [CheckM - qa] Tabulating genome statistics.\n",
      "[2023-05-09 20:34:39] INFO: Calculating AAI between multi-copy marker genes.\n",
      "[2023-05-09 20:34:39] INFO: Reading HMM info from file.\n",
      "[2023-05-09 20:34:39] INFO: Parsing HMM hits to marker genes:\n",
      "    Finished parsing hits for 10 of 10 (100.00%) bins.\n",
      "[2023-05-09 20:34:46] INFO: QA information written to: /home/jupyter-mdprieto/tutorials/results/assembly_checkm//checkm_output.tsv\n",
      "[2023-05-09 20:34:46] INFO: { Current stage: 0:00:07.534 || Total: 0:00:07.534 }\n"
     ]
    }
   ],
   "source": [
    "# produce table of contaminations\n",
    "singularity exec /mnt/cidgoh-object-storage/images/checkm_1.2.2.sif checkm qa                                                                 \\\n",
    "        /mnt/cidgoh-object-storage/seagull/jupyter-mdprieto/reference_data/pseudomonas.ms       `#file with checkm marker set for assemblies` \\\n",
    "        $RESULTS_CHECKM                                                                        `#output directory` \\\n",
    "        --file $RESULTS_CHECKM/checkm_output.tsv                                                                    \\\n",
    "        --tab_table                                                                             `# print tabular output` \\\n",
    "        --threads 10                                                                            `# number of simultaneous threads for process` \\\n",
    "        --out_format 1                                                                          `# format of output 1 = summary, 2 = extended`"
   ]
  },
  {
   "attachments": {},
   "cell_type": "markdown",
   "id": "bcd13edd-e924-4e26-870e-3bfcf856051f",
   "metadata": {
    "jupyter": {
     "outputs_hidden": true
    },
    "tags": []
   },
   "source": [
    "Now, we can review the output of results for contamination using **CheckM**. \n",
    "\n",
    "- *Completeness* is a measure of the coverage of gene marker sets spected for a species in a given contig. \n",
    "- *Contamination* shows the presence of multi-copy marker genes in the genome assembly. \n",
    "- *Strain heterogeneity* is determined by the number of multy-copy gene marker sets that have an amino acid identity >=  90%.\n",
    "\n",
    "A high heterogeneity suggests that a majority of the contamination comes from closely related organisms. A smaller value may come from phylogenetically distinct sources"
   ]
  },
  {
   "cell_type": "code",
   "execution_count": 23,
   "id": "0ac32a13-2121-4bcd-a12b-0265958f3e76",
   "metadata": {
    "vscode": {
     "languageId": "shellscript"
    }
   },
   "outputs": [
    {
     "name": "stdout",
     "output_type": "stream",
     "text": [
      "Bin Id\tMarker lineage\t# genomes\t# markers\t# marker sets\t0\t1\t2\t3\t4\t5+\tCompleteness\tContamination\tStrain heterogeneity\n",
      "ERR10479510_contigs\tPseudomonas aeruginosa (6)\t19\t1617\t469\t3\t1601\t13\t0\t0\t0\t99.86\t1.56\t7.69\n",
      "ERR10479511_contigs\tPseudomonas aeruginosa (6)\t19\t1617\t469\t4\t1600\t13\t0\t0\t0\t99.64\t1.56\t7.69\n",
      "ERR10479512_contigs\tPseudomonas aeruginosa (6)\t19\t1617\t469\t3\t1601\t13\t0\t0\t0\t99.86\t1.56\t7.69\n",
      "ERR10479513_contigs\tPseudomonas aeruginosa (6)\t19\t1617\t469\t3\t1602\t12\t0\t0\t0\t99.86\t1.45\t8.33\n",
      "ERR10479514_contigs\tPseudomonas aeruginosa (6)\t19\t1617\t469\t3\t1601\t13\t0\t0\t0\t99.86\t1.56\t7.69\n",
      "ERR10479515_contigs\tPseudomonas aeruginosa (6)\t19\t1617\t469\t3\t1601\t13\t0\t0\t0\t99.86\t1.56\t7.69\n",
      "ERR10479516_contigs\tPseudomonas aeruginosa (6)\t19\t1617\t469\t3\t1601\t13\t0\t0\t0\t99.86\t1.56\t7.69\n",
      "ERR10479517_contigs\tPseudomonas aeruginosa (6)\t19\t1617\t469\t3\t1601\t13\t0\t0\t0\t99.86\t1.56\t7.69\n",
      "ERR10479518_contigs\tPseudomonas aeruginosa (6)\t19\t1617\t469\t3\t1599\t14\t1\t0\t0\t99.86\t2.03\t5.88\n",
      "ERR10479519_contigs\tPseudomonas aeruginosa (6)\t19\t1617\t469\t3\t1601\t13\t0\t0\t0\t99.86\t1.56\t7.69\n"
     ]
    }
   ],
   "source": [
    "cat $RESULTS_CHECKM/checkm_output.tsv  "
   ]
  }
 ],
 "metadata": {
  "kernelspec": {
   "display_name": "Bash",
   "language": "bash",
   "name": "bash"
  },
  "language_info": {
   "codemirror_mode": "shell",
   "file_extension": ".sh",
   "mimetype": "text/x-sh",
   "name": "bash"
  },
  "vscode": {
   "interpreter": {
    "hash": "f6693f812c7ab8e381cab3b9fa9a750f08ad5ffac90c3671106fa5f1758428d8"
   }
  }
 },
 "nbformat": 4,
 "nbformat_minor": 5
}
